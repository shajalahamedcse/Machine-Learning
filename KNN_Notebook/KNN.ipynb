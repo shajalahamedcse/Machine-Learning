{
 "cells": [
  {
   "cell_type": "code",
   "execution_count": 1,
   "metadata": {
    "collapsed": true
   },
   "outputs": [],
   "source": [
    "import csv\n",
    "import random\n",
    "import math\n",
    "import operator\n",
    "\n"
   ]
  },
  {
   "cell_type": "code",
   "execution_count": 2,
   "metadata": {},
   "outputs": [
    {
     "name": "stdout",
     "output_type": "stream",
     "text": [
      "[['5.1', '3.5', '1.4', '0.2', 'Iris-setosa'], ['4.9', '3.0', '1.4', '0.2', 'Iris-setosa'], ['4.7', '3.2', '1.3', '0.2', 'Iris-setosa'], ['4.6', '3.1', '1.5', '0.2', 'Iris-setosa'], ['5.0', '3.6', '1.4', '0.2', 'Iris-setosa'], ['5.4', '3.9', '1.7', '0.4', 'Iris-setosa'], ['4.6', '3.4', '1.4', '0.3', 'Iris-setosa'], ['5.0', '3.4', '1.5', '0.2', 'Iris-setosa'], ['4.4', '2.9', '1.4', '0.2', 'Iris-setosa'], ['4.9', '3.1', '1.5', '0.1', 'Iris-setosa'], ['5.4', '3.7', '1.5', '0.2', 'Iris-setosa'], ['4.8', '3.4', '1.6', '0.2', 'Iris-setosa'], ['4.8', '3.0', '1.4', '0.1', 'Iris-setosa'], ['4.3', '3.0', '1.1', '0.1', 'Iris-setosa'], ['5.8', '4.0', '1.2', '0.2', 'Iris-setosa'], ['5.7', '4.4', '1.5', '0.4', 'Iris-setosa'], ['5.4', '3.9', '1.3', '0.4', 'Iris-setosa'], ['5.1', '3.5', '1.4', '0.3', 'Iris-setosa'], ['5.7', '3.8', '1.7', '0.3', 'Iris-setosa'], ['5.1', '3.8', '1.5', '0.3', 'Iris-setosa'], ['5.4', '3.4', '1.7', '0.2', 'Iris-setosa'], ['5.1', '3.7', '1.5', '0.4', 'Iris-setosa'], ['4.6', '3.6', '1.0', '0.2', 'Iris-setosa'], ['5.1', '3.3', '1.7', '0.5', 'Iris-setosa'], ['4.8', '3.4', '1.9', '0.2', 'Iris-setosa'], ['5.0', '3.0', '1.6', '0.2', 'Iris-setosa'], ['5.0', '3.4', '1.6', '0.4', 'Iris-setosa'], ['5.2', '3.5', '1.5', '0.2', 'Iris-setosa'], ['5.2', '3.4', '1.4', '0.2', 'Iris-setosa'], ['4.7', '3.2', '1.6', '0.2', 'Iris-setosa'], ['4.8', '3.1', '1.6', '0.2', 'Iris-setosa'], ['5.4', '3.4', '1.5', '0.4', 'Iris-setosa'], ['5.2', '4.1', '1.5', '0.1', 'Iris-setosa'], ['5.5', '4.2', '1.4', '0.2', 'Iris-setosa'], ['4.9', '3.1', '1.5', '0.1', 'Iris-setosa'], ['5.0', '3.2', '1.2', '0.2', 'Iris-setosa'], ['5.5', '3.5', '1.3', '0.2', 'Iris-setosa'], ['4.9', '3.1', '1.5', '0.1', 'Iris-setosa'], ['4.4', '3.0', '1.3', '0.2', 'Iris-setosa'], ['5.1', '3.4', '1.5', '0.2', 'Iris-setosa'], ['5.0', '3.5', '1.3', '0.3', 'Iris-setosa'], ['4.5', '2.3', '1.3', '0.3', 'Iris-setosa'], ['4.4', '3.2', '1.3', '0.2', 'Iris-setosa'], ['5.0', '3.5', '1.6', '0.6', 'Iris-setosa'], ['5.1', '3.8', '1.9', '0.4', 'Iris-setosa'], ['4.8', '3.0', '1.4', '0.3', 'Iris-setosa'], ['5.1', '3.8', '1.6', '0.2', 'Iris-setosa'], ['4.6', '3.2', '1.4', '0.2', 'Iris-setosa'], ['5.3', '3.7', '1.5', '0.2', 'Iris-setosa'], ['5.0', '3.3', '1.4', '0.2', 'Iris-setosa'], ['7.0', '3.2', '4.7', '1.4', 'Iris-versicolor'], ['6.4', '3.2', '4.5', '1.5', 'Iris-versicolor'], ['6.9', '3.1', '4.9', '1.5', 'Iris-versicolor'], ['5.5', '2.3', '4.0', '1.3', 'Iris-versicolor'], ['6.5', '2.8', '4.6', '1.5', 'Iris-versicolor'], ['5.7', '2.8', '4.5', '1.3', 'Iris-versicolor'], ['6.3', '3.3', '4.7', '1.6', 'Iris-versicolor'], ['4.9', '2.4', '3.3', '1.0', 'Iris-versicolor'], ['6.6', '2.9', '4.6', '1.3', 'Iris-versicolor'], ['5.2', '2.7', '3.9', '1.4', 'Iris-versicolor'], ['5.0', '2.0', '3.5', '1.0', 'Iris-versicolor'], ['5.9', '3.0', '4.2', '1.5', 'Iris-versicolor'], ['6.0', '2.2', '4.0', '1.0', 'Iris-versicolor'], ['6.1', '2.9', '4.7', '1.4', 'Iris-versicolor'], ['5.6', '2.9', '3.6', '1.3', 'Iris-versicolor'], ['6.7', '3.1', '4.4', '1.4', 'Iris-versicolor'], ['5.6', '3.0', '4.5', '1.5', 'Iris-versicolor'], ['5.8', '2.7', '4.1', '1.0', 'Iris-versicolor'], ['6.2', '2.2', '4.5', '1.5', 'Iris-versicolor'], ['5.6', '2.5', '3.9', '1.1', 'Iris-versicolor'], ['5.9', '3.2', '4.8', '1.8', 'Iris-versicolor'], ['6.1', '2.8', '4.0', '1.3', 'Iris-versicolor'], ['6.3', '2.5', '4.9', '1.5', 'Iris-versicolor'], ['6.1', '2.8', '4.7', '1.2', 'Iris-versicolor'], ['6.4', '2.9', '4.3', '1.3', 'Iris-versicolor'], ['6.6', '3.0', '4.4', '1.4', 'Iris-versicolor'], ['6.8', '2.8', '4.8', '1.4', 'Iris-versicolor'], ['6.7', '3.0', '5.0', '1.7', 'Iris-versicolor'], ['6.0', '2.9', '4.5', '1.5', 'Iris-versicolor'], ['5.7', '2.6', '3.5', '1.0', 'Iris-versicolor'], ['5.5', '2.4', '3.8', '1.1', 'Iris-versicolor'], ['5.5', '2.4', '3.7', '1.0', 'Iris-versicolor'], ['5.8', '2.7', '3.9', '1.2', 'Iris-versicolor'], ['6.0', '2.7', '5.1', '1.6', 'Iris-versicolor'], ['5.4', '3.0', '4.5', '1.5', 'Iris-versicolor'], ['6.0', '3.4', '4.5', '1.6', 'Iris-versicolor'], ['6.7', '3.1', '4.7', '1.5', 'Iris-versicolor'], ['6.3', '2.3', '4.4', '1.3', 'Iris-versicolor'], ['5.6', '3.0', '4.1', '1.3', 'Iris-versicolor'], ['5.5', '2.5', '4.0', '1.3', 'Iris-versicolor'], ['5.5', '2.6', '4.4', '1.2', 'Iris-versicolor'], ['6.1', '3.0', '4.6', '1.4', 'Iris-versicolor'], ['5.8', '2.6', '4.0', '1.2', 'Iris-versicolor'], ['5.0', '2.3', '3.3', '1.0', 'Iris-versicolor'], ['5.6', '2.7', '4.2', '1.3', 'Iris-versicolor'], ['5.7', '3.0', '4.2', '1.2', 'Iris-versicolor'], ['5.7', '2.9', '4.2', '1.3', 'Iris-versicolor'], ['6.2', '2.9', '4.3', '1.3', 'Iris-versicolor'], ['5.1', '2.5', '3.0', '1.1', 'Iris-versicolor'], ['5.7', '2.8', '4.1', '1.3', 'Iris-versicolor'], ['6.3', '3.3', '6.0', '2.5', 'Iris-virginica'], ['5.8', '2.7', '5.1', '1.9', 'Iris-virginica'], ['7.1', '3.0', '5.9', '2.1', 'Iris-virginica'], ['6.3', '2.9', '5.6', '1.8', 'Iris-virginica'], ['6.5', '3.0', '5.8', '2.2', 'Iris-virginica'], ['7.6', '3.0', '6.6', '2.1', 'Iris-virginica'], ['4.9', '2.5', '4.5', '1.7', 'Iris-virginica'], ['7.3', '2.9', '6.3', '1.8', 'Iris-virginica'], ['6.7', '2.5', '5.8', '1.8', 'Iris-virginica'], ['7.2', '3.6', '6.1', '2.5', 'Iris-virginica'], ['6.5', '3.2', '5.1', '2.0', 'Iris-virginica'], ['6.4', '2.7', '5.3', '1.9', 'Iris-virginica'], ['6.8', '3.0', '5.5', '2.1', 'Iris-virginica'], ['5.7', '2.5', '5.0', '2.0', 'Iris-virginica'], ['5.8', '2.8', '5.1', '2.4', 'Iris-virginica'], ['6.4', '3.2', '5.3', '2.3', 'Iris-virginica'], ['6.5', '3.0', '5.5', '1.8', 'Iris-virginica'], ['7.7', '3.8', '6.7', '2.2', 'Iris-virginica'], ['7.7', '2.6', '6.9', '2.3', 'Iris-virginica'], ['6.0', '2.2', '5.0', '1.5', 'Iris-virginica'], ['6.9', '3.2', '5.7', '2.3', 'Iris-virginica'], ['5.6', '2.8', '4.9', '2.0', 'Iris-virginica'], ['7.7', '2.8', '6.7', '2.0', 'Iris-virginica'], ['6.3', '2.7', '4.9', '1.8', 'Iris-virginica'], ['6.7', '3.3', '5.7', '2.1', 'Iris-virginica'], ['7.2', '3.2', '6.0', '1.8', 'Iris-virginica'], ['6.2', '2.8', '4.8', '1.8', 'Iris-virginica'], ['6.1', '3.0', '4.9', '1.8', 'Iris-virginica'], ['6.4', '2.8', '5.6', '2.1', 'Iris-virginica'], ['7.2', '3.0', '5.8', '1.6', 'Iris-virginica'], ['7.4', '2.8', '6.1', '1.9', 'Iris-virginica'], ['7.9', '3.8', '6.4', '2.0', 'Iris-virginica'], ['6.4', '2.8', '5.6', '2.2', 'Iris-virginica'], ['6.3', '2.8', '5.1', '1.5', 'Iris-virginica'], ['6.1', '2.6', '5.6', '1.4', 'Iris-virginica'], ['7.7', '3.0', '6.1', '2.3', 'Iris-virginica'], ['6.3', '3.4', '5.6', '2.4', 'Iris-virginica'], ['6.4', '3.1', '5.5', '1.8', 'Iris-virginica'], ['6.0', '3.0', '4.8', '1.8', 'Iris-virginica'], ['6.9', '3.1', '5.4', '2.1', 'Iris-virginica'], ['6.7', '3.1', '5.6', '2.4', 'Iris-virginica'], ['6.9', '3.1', '5.1', '2.3', 'Iris-virginica'], ['5.8', '2.7', '5.1', '1.9', 'Iris-virginica'], ['6.8', '3.2', '5.9', '2.3', 'Iris-virginica'], ['6.7', '3.3', '5.7', '2.5', 'Iris-virginica'], ['6.7', '3.0', '5.2', '2.3', 'Iris-virginica'], ['6.3', '2.5', '5.0', '1.9', 'Iris-virginica'], ['6.5', '3.0', '5.2', '2.0', 'Iris-virginica'], ['6.2', '3.4', '5.4', '2.3', 'Iris-virginica'], ['5.9', '3.0', '5.1', '1.8', 'Iris-virginica'], []]\n"
     ]
    }
   ],
   "source": [
    "#data loading from csc test\n",
    "def loadDataSet(filename,split,trainingSet=[],testSet=[]):\n",
    "    with open(filename,'rb') as csvfile:\n",
    "        lines=csv.reader(csvfile)\n",
    "        dataset=list(lines)\n",
    "        print dataset\n",
    "\n",
    "filename='iris.data.txt'\n",
    "split=0.66\n",
    "trainingSet=[]\n",
    "testSet=[]\n",
    "\n",
    "loadDataSet(filename,split,trainingSet,testSet)"
   ]
  },
  {
   "cell_type": "code",
   "execution_count": 3,
   "metadata": {},
   "outputs": [
    {
     "name": "stdout",
     "output_type": "stream",
     "text": [
      "[5.1, 3.5, 1.4, 0.2, 'Iris-setosa']\n",
      "[4.9, 3.0, 1.4, 0.2, 'Iris-setosa']\n",
      "[4.7, 3.2, 1.3, 0.2, 'Iris-setosa']\n",
      "[4.6, 3.1, 1.5, 0.2, 'Iris-setosa']\n",
      "[5.0, 3.6, 1.4, 0.2, 'Iris-setosa']\n",
      "[5.4, 3.9, 1.7, 0.4, 'Iris-setosa']\n",
      "[4.6, 3.4, 1.4, 0.3, 'Iris-setosa']\n",
      "[5.0, 3.4, 1.5, 0.2, 'Iris-setosa']\n",
      "[4.4, 2.9, 1.4, 0.2, 'Iris-setosa']\n",
      "[4.9, 3.1, 1.5, 0.1, 'Iris-setosa']\n",
      "[5.4, 3.7, 1.5, 0.2, 'Iris-setosa']\n",
      "[4.8, 3.4, 1.6, 0.2, 'Iris-setosa']\n",
      "[4.8, 3.0, 1.4, 0.1, 'Iris-setosa']\n",
      "[4.3, 3.0, 1.1, 0.1, 'Iris-setosa']\n",
      "[5.8, 4.0, 1.2, 0.2, 'Iris-setosa']\n",
      "[5.7, 4.4, 1.5, 0.4, 'Iris-setosa']\n",
      "[5.4, 3.9, 1.3, 0.4, 'Iris-setosa']\n",
      "[5.1, 3.5, 1.4, 0.3, 'Iris-setosa']\n",
      "[5.7, 3.8, 1.7, 0.3, 'Iris-setosa']\n",
      "[5.1, 3.8, 1.5, 0.3, 'Iris-setosa']\n",
      "[5.4, 3.4, 1.7, 0.2, 'Iris-setosa']\n",
      "[5.1, 3.7, 1.5, 0.4, 'Iris-setosa']\n",
      "[4.6, 3.6, 1.0, 0.2, 'Iris-setosa']\n",
      "[5.1, 3.3, 1.7, 0.5, 'Iris-setosa']\n",
      "[4.8, 3.4, 1.9, 0.2, 'Iris-setosa']\n",
      "[5.0, 3.0, 1.6, 0.2, 'Iris-setosa']\n",
      "[5.0, 3.4, 1.6, 0.4, 'Iris-setosa']\n",
      "[5.2, 3.5, 1.5, 0.2, 'Iris-setosa']\n",
      "[5.2, 3.4, 1.4, 0.2, 'Iris-setosa']\n",
      "[4.7, 3.2, 1.6, 0.2, 'Iris-setosa']\n",
      "[4.8, 3.1, 1.6, 0.2, 'Iris-setosa']\n",
      "[5.4, 3.4, 1.5, 0.4, 'Iris-setosa']\n",
      "[5.2, 4.1, 1.5, 0.1, 'Iris-setosa']\n",
      "[5.5, 4.2, 1.4, 0.2, 'Iris-setosa']\n",
      "[4.9, 3.1, 1.5, 0.1, 'Iris-setosa']\n",
      "[5.0, 3.2, 1.2, 0.2, 'Iris-setosa']\n",
      "[5.5, 3.5, 1.3, 0.2, 'Iris-setosa']\n",
      "[4.9, 3.1, 1.5, 0.1, 'Iris-setosa']\n",
      "[4.4, 3.0, 1.3, 0.2, 'Iris-setosa']\n",
      "[5.1, 3.4, 1.5, 0.2, 'Iris-setosa']\n",
      "[5.0, 3.5, 1.3, 0.3, 'Iris-setosa']\n",
      "[4.5, 2.3, 1.3, 0.3, 'Iris-setosa']\n",
      "[4.4, 3.2, 1.3, 0.2, 'Iris-setosa']\n",
      "[5.0, 3.5, 1.6, 0.6, 'Iris-setosa']\n",
      "[5.1, 3.8, 1.9, 0.4, 'Iris-setosa']\n",
      "[4.8, 3.0, 1.4, 0.3, 'Iris-setosa']\n",
      "[5.1, 3.8, 1.6, 0.2, 'Iris-setosa']\n",
      "[4.6, 3.2, 1.4, 0.2, 'Iris-setosa']\n",
      "[5.3, 3.7, 1.5, 0.2, 'Iris-setosa']\n",
      "[5.0, 3.3, 1.4, 0.2, 'Iris-setosa']\n",
      "[7.0, 3.2, 4.7, 1.4, 'Iris-versicolor']\n",
      "[6.4, 3.2, 4.5, 1.5, 'Iris-versicolor']\n",
      "[6.9, 3.1, 4.9, 1.5, 'Iris-versicolor']\n",
      "[5.5, 2.3, 4.0, 1.3, 'Iris-versicolor']\n",
      "[6.5, 2.8, 4.6, 1.5, 'Iris-versicolor']\n",
      "[5.7, 2.8, 4.5, 1.3, 'Iris-versicolor']\n",
      "[6.3, 3.3, 4.7, 1.6, 'Iris-versicolor']\n",
      "[4.9, 2.4, 3.3, 1.0, 'Iris-versicolor']\n",
      "[6.6, 2.9, 4.6, 1.3, 'Iris-versicolor']\n",
      "[5.2, 2.7, 3.9, 1.4, 'Iris-versicolor']\n",
      "[5.0, 2.0, 3.5, 1.0, 'Iris-versicolor']\n",
      "[5.9, 3.0, 4.2, 1.5, 'Iris-versicolor']\n",
      "[6.0, 2.2, 4.0, 1.0, 'Iris-versicolor']\n",
      "[6.1, 2.9, 4.7, 1.4, 'Iris-versicolor']\n",
      "[5.6, 2.9, 3.6, 1.3, 'Iris-versicolor']\n",
      "[6.7, 3.1, 4.4, 1.4, 'Iris-versicolor']\n",
      "[5.6, 3.0, 4.5, 1.5, 'Iris-versicolor']\n",
      "[5.8, 2.7, 4.1, 1.0, 'Iris-versicolor']\n",
      "[6.2, 2.2, 4.5, 1.5, 'Iris-versicolor']\n",
      "[5.6, 2.5, 3.9, 1.1, 'Iris-versicolor']\n",
      "[5.9, 3.2, 4.8, 1.8, 'Iris-versicolor']\n",
      "[6.1, 2.8, 4.0, 1.3, 'Iris-versicolor']\n",
      "[6.3, 2.5, 4.9, 1.5, 'Iris-versicolor']\n",
      "[6.1, 2.8, 4.7, 1.2, 'Iris-versicolor']\n",
      "[6.4, 2.9, 4.3, 1.3, 'Iris-versicolor']\n",
      "[6.6, 3.0, 4.4, 1.4, 'Iris-versicolor']\n",
      "[6.8, 2.8, 4.8, 1.4, 'Iris-versicolor']\n",
      "[6.7, 3.0, 5.0, 1.7, 'Iris-versicolor']\n",
      "[6.0, 2.9, 4.5, 1.5, 'Iris-versicolor']\n",
      "[5.7, 2.6, 3.5, 1.0, 'Iris-versicolor']\n",
      "[5.5, 2.4, 3.8, 1.1, 'Iris-versicolor']\n",
      "[5.5, 2.4, 3.7, 1.0, 'Iris-versicolor']\n",
      "[5.8, 2.7, 3.9, 1.2, 'Iris-versicolor']\n",
      "[6.0, 2.7, 5.1, 1.6, 'Iris-versicolor']\n",
      "[5.4, 3.0, 4.5, 1.5, 'Iris-versicolor']\n",
      "[6.0, 3.4, 4.5, 1.6, 'Iris-versicolor']\n",
      "[6.7, 3.1, 4.7, 1.5, 'Iris-versicolor']\n",
      "[6.3, 2.3, 4.4, 1.3, 'Iris-versicolor']\n",
      "[5.6, 3.0, 4.1, 1.3, 'Iris-versicolor']\n",
      "[5.5, 2.5, 4.0, 1.3, 'Iris-versicolor']\n",
      "[5.5, 2.6, 4.4, 1.2, 'Iris-versicolor']\n",
      "[6.1, 3.0, 4.6, 1.4, 'Iris-versicolor']\n",
      "[5.8, 2.6, 4.0, 1.2, 'Iris-versicolor']\n",
      "[5.0, 2.3, 3.3, 1.0, 'Iris-versicolor']\n",
      "[5.6, 2.7, 4.2, 1.3, 'Iris-versicolor']\n",
      "[5.7, 3.0, 4.2, 1.2, 'Iris-versicolor']\n",
      "[5.7, 2.9, 4.2, 1.3, 'Iris-versicolor']\n",
      "[6.2, 2.9, 4.3, 1.3, 'Iris-versicolor']\n",
      "[5.1, 2.5, 3.0, 1.1, 'Iris-versicolor']\n",
      "[5.7, 2.8, 4.1, 1.3, 'Iris-versicolor']\n",
      "[6.3, 3.3, 6.0, 2.5, 'Iris-virginica']\n",
      "[5.8, 2.7, 5.1, 1.9, 'Iris-virginica']\n",
      "[7.1, 3.0, 5.9, 2.1, 'Iris-virginica']\n",
      "[6.3, 2.9, 5.6, 1.8, 'Iris-virginica']\n",
      "[6.5, 3.0, 5.8, 2.2, 'Iris-virginica']\n",
      "[7.6, 3.0, 6.6, 2.1, 'Iris-virginica']\n",
      "[4.9, 2.5, 4.5, 1.7, 'Iris-virginica']\n",
      "[7.3, 2.9, 6.3, 1.8, 'Iris-virginica']\n",
      "[6.7, 2.5, 5.8, 1.8, 'Iris-virginica']\n",
      "[7.2, 3.6, 6.1, 2.5, 'Iris-virginica']\n",
      "[6.5, 3.2, 5.1, 2.0, 'Iris-virginica']\n",
      "[6.4, 2.7, 5.3, 1.9, 'Iris-virginica']\n",
      "[6.8, 3.0, 5.5, 2.1, 'Iris-virginica']\n",
      "[5.7, 2.5, 5.0, 2.0, 'Iris-virginica']\n",
      "[5.8, 2.8, 5.1, 2.4, 'Iris-virginica']\n",
      "[6.4, 3.2, 5.3, 2.3, 'Iris-virginica']\n",
      "[6.5, 3.0, 5.5, 1.8, 'Iris-virginica']\n",
      "[7.7, 3.8, 6.7, 2.2, 'Iris-virginica']\n",
      "[7.7, 2.6, 6.9, 2.3, 'Iris-virginica']\n",
      "[6.0, 2.2, 5.0, 1.5, 'Iris-virginica']\n",
      "[6.9, 3.2, 5.7, 2.3, 'Iris-virginica']\n",
      "[5.6, 2.8, 4.9, 2.0, 'Iris-virginica']\n",
      "[7.7, 2.8, 6.7, 2.0, 'Iris-virginica']\n",
      "[6.3, 2.7, 4.9, 1.8, 'Iris-virginica']\n",
      "[6.7, 3.3, 5.7, 2.1, 'Iris-virginica']\n",
      "[7.2, 3.2, 6.0, 1.8, 'Iris-virginica']\n",
      "[6.2, 2.8, 4.8, 1.8, 'Iris-virginica']\n",
      "[6.1, 3.0, 4.9, 1.8, 'Iris-virginica']\n",
      "[6.4, 2.8, 5.6, 2.1, 'Iris-virginica']\n",
      "[7.2, 3.0, 5.8, 1.6, 'Iris-virginica']\n",
      "[7.4, 2.8, 6.1, 1.9, 'Iris-virginica']\n",
      "[7.9, 3.8, 6.4, 2.0, 'Iris-virginica']\n",
      "[6.4, 2.8, 5.6, 2.2, 'Iris-virginica']\n",
      "[6.3, 2.8, 5.1, 1.5, 'Iris-virginica']\n",
      "[6.1, 2.6, 5.6, 1.4, 'Iris-virginica']\n",
      "[7.7, 3.0, 6.1, 2.3, 'Iris-virginica']\n",
      "[6.3, 3.4, 5.6, 2.4, 'Iris-virginica']\n",
      "[6.4, 3.1, 5.5, 1.8, 'Iris-virginica']\n",
      "[6.0, 3.0, 4.8, 1.8, 'Iris-virginica']\n",
      "[6.9, 3.1, 5.4, 2.1, 'Iris-virginica']\n",
      "[6.7, 3.1, 5.6, 2.4, 'Iris-virginica']\n",
      "[6.9, 3.1, 5.1, 2.3, 'Iris-virginica']\n",
      "[5.8, 2.7, 5.1, 1.9, 'Iris-virginica']\n",
      "[6.8, 3.2, 5.9, 2.3, 'Iris-virginica']\n",
      "[6.7, 3.3, 5.7, 2.5, 'Iris-virginica']\n",
      "[6.7, 3.0, 5.2, 2.3, 'Iris-virginica']\n",
      "[6.3, 2.5, 5.0, 1.9, 'Iris-virginica']\n",
      "[6.5, 3.0, 5.2, 2.0, 'Iris-virginica']\n",
      "[6.2, 3.4, 5.4, 2.3, 'Iris-virginica']\n",
      "[5.9, 3.0, 5.1, 1.8, 'Iris-virginica']\n"
     ]
    }
   ],
   "source": [
    "#convert string data into float data\n",
    "#removing redundant data\n",
    "\n",
    "def loadDataSet(filename,split,trainingSet=[],testSet=[]):\n",
    "    with open(filename,'rb') as csvfile:\n",
    "        lines=csv.reader(csvfile)\n",
    "        dataset=list(lines)\n",
    "        \n",
    "        for x in dataset[:-1]:\n",
    "            i=0\n",
    "            for y in x[:-1]:\n",
    "                x[i]=float(y)\n",
    "                i+=1\n",
    "            print x\n",
    "\n",
    "filename='iris.data.txt'\n",
    "split=0.66\n",
    "trainingSet=[]\n",
    "testSet=[]\n",
    "\n",
    "loadDataSet(filename,split,trainingSet,testSet)"
   ]
  },
  {
   "cell_type": "code",
   "execution_count": 12,
   "metadata": {
    "scrolled": true
   },
   "outputs": [
    {
     "name": "stdout",
     "output_type": "stream",
     "text": [
      "[[4.9, 3.0, 1.4, 0.2, 'Iris-setosa'], [4.7, 3.2, 1.3, 0.2, 'Iris-setosa'], [4.6, 3.1, 1.5, 0.2, 'Iris-setosa'], [5.0, 3.6, 1.4, 0.2, 'Iris-setosa'], [5.4, 3.9, 1.7, 0.4, 'Iris-setosa'], [4.6, 3.4, 1.4, 0.3, 'Iris-setosa'], [4.4, 2.9, 1.4, 0.2, 'Iris-setosa'], [4.9, 3.1, 1.5, 0.1, 'Iris-setosa'], [5.4, 3.7, 1.5, 0.2, 'Iris-setosa'], [4.8, 3.4, 1.6, 0.2, 'Iris-setosa'], [4.3, 3.0, 1.1, 0.1, 'Iris-setosa'], [5.8, 4.0, 1.2, 0.2, 'Iris-setosa'], [5.7, 4.4, 1.5, 0.4, 'Iris-setosa'], [5.4, 3.9, 1.3, 0.4, 'Iris-setosa'], [5.1, 3.5, 1.4, 0.3, 'Iris-setosa'], [5.7, 3.8, 1.7, 0.3, 'Iris-setosa'], [5.1, 3.8, 1.5, 0.3, 'Iris-setosa'], [5.4, 3.4, 1.7, 0.2, 'Iris-setosa'], [5.1, 3.3, 1.7, 0.5, 'Iris-setosa'], [4.8, 3.4, 1.9, 0.2, 'Iris-setosa'], [5.0, 3.0, 1.6, 0.2, 'Iris-setosa'], [5.0, 3.4, 1.6, 0.4, 'Iris-setosa'], [5.2, 3.5, 1.5, 0.2, 'Iris-setosa'], [5.2, 3.4, 1.4, 0.2, 'Iris-setosa'], [4.7, 3.2, 1.6, 0.2, 'Iris-setosa'], [4.8, 3.1, 1.6, 0.2, 'Iris-setosa'], [5.2, 4.1, 1.5, 0.1, 'Iris-setosa'], [5.5, 4.2, 1.4, 0.2, 'Iris-setosa'], [4.9, 3.1, 1.5, 0.1, 'Iris-setosa'], [5.0, 3.2, 1.2, 0.2, 'Iris-setosa'], [4.9, 3.1, 1.5, 0.1, 'Iris-setosa'], [5.1, 3.4, 1.5, 0.2, 'Iris-setosa'], [5.0, 3.5, 1.3, 0.3, 'Iris-setosa'], [4.5, 2.3, 1.3, 0.3, 'Iris-setosa'], [4.4, 3.2, 1.3, 0.2, 'Iris-setosa'], [5.0, 3.5, 1.6, 0.6, 'Iris-setosa'], [5.1, 3.8, 1.9, 0.4, 'Iris-setosa'], [4.8, 3.0, 1.4, 0.3, 'Iris-setosa'], [5.1, 3.8, 1.6, 0.2, 'Iris-setosa'], [4.6, 3.2, 1.4, 0.2, 'Iris-setosa'], [5.3, 3.7, 1.5, 0.2, 'Iris-setosa'], [5.0, 3.3, 1.4, 0.2, 'Iris-setosa'], [7.0, 3.2, 4.7, 1.4, 'Iris-versicolor'], [6.4, 3.2, 4.5, 1.5, 'Iris-versicolor'], [6.9, 3.1, 4.9, 1.5, 'Iris-versicolor'], [5.5, 2.3, 4.0, 1.3, 'Iris-versicolor'], [6.5, 2.8, 4.6, 1.5, 'Iris-versicolor'], [5.7, 2.8, 4.5, 1.3, 'Iris-versicolor'], [6.3, 3.3, 4.7, 1.6, 'Iris-versicolor'], [6.6, 2.9, 4.6, 1.3, 'Iris-versicolor'], [5.2, 2.7, 3.9, 1.4, 'Iris-versicolor'], [5.9, 3.0, 4.2, 1.5, 'Iris-versicolor'], [6.0, 2.2, 4.0, 1.0, 'Iris-versicolor'], [6.7, 3.1, 4.4, 1.4, 'Iris-versicolor'], [5.6, 3.0, 4.5, 1.5, 'Iris-versicolor'], [5.8, 2.7, 4.1, 1.0, 'Iris-versicolor'], [6.2, 2.2, 4.5, 1.5, 'Iris-versicolor'], [5.6, 2.5, 3.9, 1.1, 'Iris-versicolor'], [6.1, 2.8, 4.0, 1.3, 'Iris-versicolor'], [6.3, 2.5, 4.9, 1.5, 'Iris-versicolor'], [6.1, 2.8, 4.7, 1.2, 'Iris-versicolor'], [6.4, 2.9, 4.3, 1.3, 'Iris-versicolor'], [6.6, 3.0, 4.4, 1.4, 'Iris-versicolor'], [6.0, 2.9, 4.5, 1.5, 'Iris-versicolor'], [5.7, 2.6, 3.5, 1.0, 'Iris-versicolor'], [5.5, 2.4, 3.8, 1.1, 'Iris-versicolor'], [6.0, 2.7, 5.1, 1.6, 'Iris-versicolor'], [5.4, 3.0, 4.5, 1.5, 'Iris-versicolor'], [6.0, 3.4, 4.5, 1.6, 'Iris-versicolor'], [6.7, 3.1, 4.7, 1.5, 'Iris-versicolor'], [6.3, 2.3, 4.4, 1.3, 'Iris-versicolor'], [5.5, 2.5, 4.0, 1.3, 'Iris-versicolor'], [6.1, 3.0, 4.6, 1.4, 'Iris-versicolor'], [5.8, 2.6, 4.0, 1.2, 'Iris-versicolor'], [5.7, 3.0, 4.2, 1.2, 'Iris-versicolor'], [5.7, 2.9, 4.2, 1.3, 'Iris-versicolor'], [5.1, 2.5, 3.0, 1.1, 'Iris-versicolor'], [5.7, 2.8, 4.1, 1.3, 'Iris-versicolor'], [7.1, 3.0, 5.9, 2.1, 'Iris-virginica'], [7.6, 3.0, 6.6, 2.1, 'Iris-virginica'], [4.9, 2.5, 4.5, 1.7, 'Iris-virginica'], [7.3, 2.9, 6.3, 1.8, 'Iris-virginica'], [7.2, 3.6, 6.1, 2.5, 'Iris-virginica'], [6.4, 2.7, 5.3, 1.9, 'Iris-virginica'], [5.7, 2.5, 5.0, 2.0, 'Iris-virginica'], [5.8, 2.8, 5.1, 2.4, 'Iris-virginica'], [6.4, 3.2, 5.3, 2.3, 'Iris-virginica'], [7.7, 3.8, 6.7, 2.2, 'Iris-virginica'], [6.0, 2.2, 5.0, 1.5, 'Iris-virginica'], [5.6, 2.8, 4.9, 2.0, 'Iris-virginica'], [7.7, 2.8, 6.7, 2.0, 'Iris-virginica'], [6.3, 2.7, 4.9, 1.8, 'Iris-virginica'], [6.7, 3.3, 5.7, 2.1, 'Iris-virginica'], [7.2, 3.2, 6.0, 1.8, 'Iris-virginica'], [6.2, 2.8, 4.8, 1.8, 'Iris-virginica'], [6.1, 3.0, 4.9, 1.8, 'Iris-virginica'], [6.4, 2.8, 5.6, 2.1, 'Iris-virginica'], [7.2, 3.0, 5.8, 1.6, 'Iris-virginica'], [7.4, 2.8, 6.1, 1.9, 'Iris-virginica'], [7.9, 3.8, 6.4, 2.0, 'Iris-virginica'], [6.3, 2.8, 5.1, 1.5, 'Iris-virginica'], [6.1, 2.6, 5.6, 1.4, 'Iris-virginica'], [6.4, 3.1, 5.5, 1.8, 'Iris-virginica'], [5.8, 2.7, 5.1, 1.9, 'Iris-virginica'], [6.8, 3.2, 5.9, 2.3, 'Iris-virginica'], [6.7, 3.0, 5.2, 2.3, 'Iris-virginica'], [6.5, 3.0, 5.2, 2.0, 'Iris-virginica'], [6.2, 3.4, 5.4, 2.3, 'Iris-virginica']]\n"
     ]
    }
   ],
   "source": [
    "#trainingSet and testSet segregation\n",
    "def loadDataSet(filename,split,trainingSet=[],testSet=[]):\n",
    "    with open(filename,'rb') as csvfile:\n",
    "        lines=csv.reader(csvfile)\n",
    "        dataset=list(lines)\n",
    "        \n",
    "        for x in dataset[:-1]:\n",
    "            i=0\n",
    "            for y in x[:-1]:\n",
    "                x[i]=float(y)\n",
    "                i+=1\n",
    "                \n",
    "            if random.random() <split:\n",
    "                trainingSet.append(x)\n",
    "               \n",
    "            else:\n",
    "                testSet.append(x)\n",
    "        \n",
    "    print trainingSet\n",
    "\n",
    "filename='iris.data.txt'\n",
    "split=0.66\n",
    "trainingSet=[]\n",
    "testSet=[]\n",
    "\n",
    "loadDataSet(filename,split,trainingSet,testSet)"
   ]
  },
  {
   "cell_type": "code",
   "execution_count": 13,
   "metadata": {},
   "outputs": [
    {
     "name": "stdout",
     "output_type": "stream",
     "text": [
      "Distance: 3.4641016151377544\n"
     ]
    }
   ],
   "source": [
    "#euclideanDistance between\n",
    "def euclideanDistance(instance1,instance2):\n",
    "    distance=0\n",
    "    \n",
    "    for x in range(len(instance1)-1):\n",
    "        distance+=pow((instance1[x]-instance2[x]),2)\n",
    "    return math.sqrt(distance)\n",
    "\n",
    "\n",
    "data1 = [2, 2, 2, 'a']\n",
    "data2 = [4, 4, 4, 'b']\n",
    "distance = euclideanDistance(data1, data2)\n",
    "print 'Distance: ' + repr(distance)"
   ]
  },
  {
   "cell_type": "code",
   "execution_count": 19,
   "metadata": {},
   "outputs": [
    {
     "name": "stdout",
     "output_type": "stream",
     "text": [
      "[([5.1, 3.5, 1.4, 0.2, 'Iris-setosa'], 1.5033296378372907), ([5.0, 3.4, 1.5, 0.2, 'Iris-setosa'], 1.6), ([4.8, 3.0, 1.4, 0.1, 'Iris-setosa'], 2.009975124224178), ([5.1, 3.7, 1.5, 0.4, 'Iris-setosa'], 1.3038404810405295), ([4.6, 3.6, 1.0, 0.2, 'Iris-setosa'], 1.4560219778561037), ([5.4, 3.4, 1.5, 0.4, 'Iris-setosa'], 1.6492422502470645), ([5.5, 3.5, 1.3, 0.2, 'Iris-setosa'], 1.5811388300841898), ([4.4, 3.0, 1.3, 0.2, 'Iris-setosa'], 2.0880613017821097), ([4.9, 2.4, 3.3, 1.0, 'Iris-versicolor'], 2.6019223662515376), ([5.0, 2.0, 3.5, 1.0, 'Iris-versicolor'], 3.0), ([6.1, 2.9, 4.7, 1.4, 'Iris-versicolor'], 2.3706539182259396), ([5.6, 2.9, 3.6, 1.3, 'Iris-versicolor'], 2.1840329667841556), ([5.9, 3.2, 4.8, 1.8, 'Iris-versicolor'], 2.0124611797498106), ([6.8, 2.8, 4.8, 1.4, 'Iris-versicolor'], 2.842534080710379), ([6.7, 3.0, 5.0, 1.7, 'Iris-versicolor'], 2.6248809496813377), ([5.5, 2.4, 3.7, 1.0, 'Iris-versicolor'], 2.6476404589747453), ([5.8, 2.7, 3.9, 1.2, 'Iris-versicolor'], 2.435159132377184), ([5.6, 3.0, 4.1, 1.3, 'Iris-versicolor'], 2.0880613017821097), ([5.5, 2.6, 4.4, 1.2, 'Iris-versicolor'], 2.4515301344262523), ([5.0, 2.3, 3.3, 1.0, 'Iris-versicolor'], 2.7), ([5.6, 2.7, 4.2, 1.3, 'Iris-versicolor'], 2.3769728648009423), ([6.2, 2.9, 4.3, 1.3, 'Iris-versicolor'], 2.418677324489565), ([6.3, 3.3, 6.0, 2.5, 'Iris-virginica'], 2.1400934559032696), ([5.8, 2.7, 5.1, 1.9, 'Iris-virginica'], 2.435159132377184), ([6.3, 2.9, 5.6, 1.8, 'Iris-virginica'], 2.4698178070456938), ([6.5, 3.0, 5.8, 2.2, 'Iris-virginica'], 2.5), ([6.7, 2.5, 5.8, 1.8, 'Iris-virginica'], 3.023243291566195), ([6.5, 3.2, 5.1, 2.0, 'Iris-virginica'], 2.3430749027719964), ([6.8, 3.0, 5.5, 2.1, 'Iris-virginica'], 2.690724809414742), ([6.5, 3.0, 5.5, 1.8, 'Iris-virginica'], 2.5), ([7.7, 2.6, 6.9, 2.3, 'Iris-virginica'], 3.6124783736376886), ([6.9, 3.2, 5.7, 2.3, 'Iris-virginica'], 2.6172504656604803), ([6.4, 2.8, 5.6, 2.2, 'Iris-virginica'], 2.60768096208106), ([7.7, 3.0, 6.1, 2.3, 'Iris-virginica'], 3.3600595232822887), ([6.3, 3.4, 5.6, 2.4, 'Iris-virginica'], 2.0615528128088303), ([6.0, 3.0, 4.8, 1.8, 'Iris-virginica'], 2.23606797749979), ([6.9, 3.1, 5.4, 2.1, 'Iris-virginica'], 2.6870057685088806), ([6.7, 3.1, 5.6, 2.4, 'Iris-virginica'], 2.5495097567963922), ([6.9, 3.1, 5.1, 2.3, 'Iris-virginica'], 2.6870057685088806), ([6.7, 3.3, 5.7, 2.5, 'Iris-virginica'], 2.4041630560342617), ([6.3, 2.5, 5.0, 1.9, 'Iris-virginica'], 2.817800560721074), ([5.9, 3.0, 5.1, 1.8, 'Iris-virginica'], 2.193171219946131)]\n"
     ]
    }
   ],
   "source": [
    "#EuclideanDistance between training data and testdata to get neighbors\n",
    "def getNeighbors(trainingSet,testInstance,k):\n",
    "    distances=[]\n",
    "    for x in trainingSet:\n",
    "        dist=euclideanDistance(testInstance,x)\n",
    "        distances.append((x,dist))\n",
    "    \n",
    "    print distances\n",
    "    \n",
    "trainSet = [[2, 2, 2, 'a'], [4, 4, 4, 'b']]\n",
    "testInstance = [5, 5, 5]\n",
    "k=3\n",
    "getNeighbors(testSet,testInstance,k)"
   ]
  },
  {
   "cell_type": "code",
   "execution_count": 23,
   "metadata": {},
   "outputs": [
    {
     "name": "stdout",
     "output_type": "stream",
     "text": [
      "[([5.1, 3.7, 1.5, 0.4, 'Iris-setosa'], 1.3038404810405295), ([4.6, 3.6, 1.0, 0.2, 'Iris-setosa'], 1.4560219778561037), ([5.1, 3.5, 1.4, 0.2, 'Iris-setosa'], 1.5033296378372907), ([5.5, 3.5, 1.3, 0.2, 'Iris-setosa'], 1.5811388300841898), ([5.0, 3.4, 1.5, 0.2, 'Iris-setosa'], 1.6), ([5.4, 3.4, 1.5, 0.4, 'Iris-setosa'], 1.6492422502470645), ([4.8, 3.0, 1.4, 0.1, 'Iris-setosa'], 2.009975124224178), ([5.9, 3.2, 4.8, 1.8, 'Iris-versicolor'], 2.0124611797498106), ([6.3, 3.4, 5.6, 2.4, 'Iris-virginica'], 2.0615528128088303), ([4.4, 3.0, 1.3, 0.2, 'Iris-setosa'], 2.0880613017821097), ([5.6, 3.0, 4.1, 1.3, 'Iris-versicolor'], 2.0880613017821097), ([6.3, 3.3, 6.0, 2.5, 'Iris-virginica'], 2.1400934559032696), ([5.6, 2.9, 3.6, 1.3, 'Iris-versicolor'], 2.1840329667841556), ([5.9, 3.0, 5.1, 1.8, 'Iris-virginica'], 2.193171219946131), ([6.0, 3.0, 4.8, 1.8, 'Iris-virginica'], 2.23606797749979), ([6.5, 3.2, 5.1, 2.0, 'Iris-virginica'], 2.3430749027719964), ([6.1, 2.9, 4.7, 1.4, 'Iris-versicolor'], 2.3706539182259396), ([5.6, 2.7, 4.2, 1.3, 'Iris-versicolor'], 2.3769728648009423), ([6.7, 3.3, 5.7, 2.5, 'Iris-virginica'], 2.4041630560342617), ([6.2, 2.9, 4.3, 1.3, 'Iris-versicolor'], 2.418677324489565), ([5.8, 2.7, 3.9, 1.2, 'Iris-versicolor'], 2.435159132377184), ([5.8, 2.7, 5.1, 1.9, 'Iris-virginica'], 2.435159132377184), ([5.5, 2.6, 4.4, 1.2, 'Iris-versicolor'], 2.4515301344262523), ([6.3, 2.9, 5.6, 1.8, 'Iris-virginica'], 2.4698178070456938), ([6.5, 3.0, 5.8, 2.2, 'Iris-virginica'], 2.5), ([6.5, 3.0, 5.5, 1.8, 'Iris-virginica'], 2.5), ([6.7, 3.1, 5.6, 2.4, 'Iris-virginica'], 2.5495097567963922), ([4.9, 2.4, 3.3, 1.0, 'Iris-versicolor'], 2.6019223662515376), ([6.4, 2.8, 5.6, 2.2, 'Iris-virginica'], 2.60768096208106), ([6.9, 3.2, 5.7, 2.3, 'Iris-virginica'], 2.6172504656604803), ([6.7, 3.0, 5.0, 1.7, 'Iris-versicolor'], 2.6248809496813377), ([5.5, 2.4, 3.7, 1.0, 'Iris-versicolor'], 2.6476404589747453), ([6.9, 3.1, 5.4, 2.1, 'Iris-virginica'], 2.6870057685088806), ([6.9, 3.1, 5.1, 2.3, 'Iris-virginica'], 2.6870057685088806), ([6.8, 3.0, 5.5, 2.1, 'Iris-virginica'], 2.690724809414742), ([5.0, 2.3, 3.3, 1.0, 'Iris-versicolor'], 2.7), ([6.3, 2.5, 5.0, 1.9, 'Iris-virginica'], 2.817800560721074), ([6.8, 2.8, 4.8, 1.4, 'Iris-versicolor'], 2.842534080710379), ([5.0, 2.0, 3.5, 1.0, 'Iris-versicolor'], 3.0), ([6.7, 2.5, 5.8, 1.8, 'Iris-virginica'], 3.023243291566195), ([7.7, 3.0, 6.1, 2.3, 'Iris-virginica'], 3.3600595232822887), ([7.7, 2.6, 6.9, 2.3, 'Iris-virginica'], 3.6124783736376886)]\n"
     ]
    }
   ],
   "source": [
    "#After sorting\n",
    "def getNeighbors(trainingSet,testInstance,k):\n",
    "    distances=[]\n",
    "    for x in trainingSet:\n",
    "        dist=euclideanDistance(testInstance,x)\n",
    "        distances.append((x,dist))\n",
    "    \n",
    "    distances.sort(key=operator.itemgetter(1))\n",
    "    print distances\n",
    "    \n",
    "trainSet = [[2, 2, 2, 'a'], [4, 4, 4, 'b']]\n",
    "testInstance = [5, 5, 5]\n",
    "k=3\n",
    "getNeighbors(testSet,testInstance,k)"
   ]
  },
  {
   "cell_type": "code",
   "execution_count": 29,
   "metadata": {},
   "outputs": [
    {
     "name": "stdout",
     "output_type": "stream",
     "text": [
      "[[5.1, 3.7, 1.5, 0.4, 'Iris-setosa'], [4.6, 3.6, 1.0, 0.2, 'Iris-setosa'], [5.1, 3.5, 1.4, 0.2, 'Iris-setosa']]\n"
     ]
    }
   ],
   "source": [
    "#Neighbors\n",
    "def getNeighbors(trainingSet,testInstance,k):\n",
    "    distances=[]\n",
    "    for x in trainingSet:\n",
    "        dist=euclideanDistance(testInstance,x)\n",
    "        distances.append((x,dist))\n",
    "    distances.sort(key=operator.itemgetter(1))\n",
    "    neighbors=[]\n",
    "    for x in range(k):\n",
    "        neighbors.append(distances[x][0])\n",
    "    return neighbors\n",
    "trainSet = [[2, 2, 2, 'a'], [4, 4, 4, 'b']]\n",
    "testInstance = [5, 5, 5]\n",
    "k=3\n",
    "neighbors=getNeighbors(testSet,testInstance,k)\n",
    "print neighbors"
   ]
  },
  {
   "cell_type": "code",
   "execution_count": 34,
   "metadata": {},
   "outputs": [
    {
     "data": {
      "text/plain": [
       "'Iris-setosa'"
      ]
     },
     "execution_count": 34,
     "metadata": {},
     "output_type": "execute_result"
    }
   ],
   "source": [
    "def getResponse(neighbors):\n",
    "    classVotes={}\n",
    "    for x in range(len(neighbors)):\n",
    "        response=neighbors[x][-1]\n",
    "        \n",
    "        if response in classVotes:\n",
    "            classVotes[response]+=1\n",
    "        else:\n",
    "            classVotes[response]=1\n",
    "    sortedVotes = sorted(classVotes.iteritems(), key=operator.itemgetter(1), reverse=True)\n",
    "    return sortedVotes[0][0]\n",
    "\n",
    "getResponse(neighbors)"
   ]
  },
  {
   "cell_type": "code",
   "execution_count": 35,
   "metadata": {
    "collapsed": true
   },
   "outputs": [],
   "source": [
    "def getAccuracy(testSet,predictions):\n",
    "    correct=0\n",
    "    for x in range(len(testSet)):\n",
    "        if tesSet[x][-1] is predictions[x]:\n",
    "            correct+=1\n",
    "    return (correct/float(len(testSet)))*100.0"
   ]
  },
  {
   "cell_type": "code",
   "execution_count": null,
   "metadata": {
    "collapsed": true
   },
   "outputs": [],
   "source": []
  }
 ],
 "metadata": {
  "kernelspec": {
   "display_name": "Python 2",
   "language": "python",
   "name": "python2"
  },
  "language_info": {
   "codemirror_mode": {
    "name": "ipython",
    "version": 2
   },
   "file_extension": ".py",
   "mimetype": "text/x-python",
   "name": "python",
   "nbconvert_exporter": "python",
   "pygments_lexer": "ipython2",
   "version": "2.7.14"
  }
 },
 "nbformat": 4,
 "nbformat_minor": 2
}
